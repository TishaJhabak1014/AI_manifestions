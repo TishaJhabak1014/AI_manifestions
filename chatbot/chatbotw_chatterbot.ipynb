{
  "nbformat": 4,
  "nbformat_minor": 0,
  "metadata": {
    "colab": {
      "provenance": [],
      "authorship_tag": "ABX9TyNkl2HV1cXN9wSyLvXoRFNP",
      "include_colab_link": true
    },
    "kernelspec": {
      "name": "python3",
      "display_name": "Python 3"
    },
    "language_info": {
      "name": "python"
    }
  },
  "cells": [
    {
      "cell_type": "markdown",
      "metadata": {
        "id": "view-in-github",
        "colab_type": "text"
      },
      "source": [
        "<a href=\"https://colab.research.google.com/github/TishaJhabak1014/AI_manifestions/blob/main/chatbot/chatbotw_chatterbot.ipynb\" target=\"_parent\"><img src=\"https://colab.research.google.com/assets/colab-badge.svg\" alt=\"Open In Colab\"/></a>"
      ]
    },
    {
      "cell_type": "markdown",
      "source": [
        "### Chatbot \n",
        "- using a Python **library**, `chatterbot`, to implement a chatbot.\n",
        "- This library generates automated responses to the user input. The responses are based on machine learning algorithms implemented in the library.\n",
        "\n",
        "### Aim\n",
        "- task is to train Jordan with all of the world’s information and then to train it with personal information for restricted access\n",
        "- only Mark (the owner), and his friend Jane are trustworthy\n",
        "- enter the identity of a person and respond accordingly based on the permissions to be given by Jordan.\n",
        "- Once the bot has identified Mark, will train the bot some personal information about you."
      ],
      "metadata": {
        "id": "vQG-TdZioHHt"
      }
    },
    {
      "cell_type": "code",
      "source": [
        "!pip install chatterbot_corpus chatterbot"
      ],
      "metadata": {
        "colab": {
          "base_uri": "https://localhost:8080/",
          "height": 1000
        },
        "id": "XjSQTppRo5ox",
        "outputId": "67370833-f311-4c7a-fe95-ac5752e4f18e"
      },
      "execution_count": null,
      "outputs": [
        {
          "output_type": "stream",
          "name": "stdout",
          "text": [
            "Looking in indexes: https://pypi.org/simple, https://us-python.pkg.dev/colab-wheels/public/simple/\n",
            "Collecting chatterbot_corpus\n",
            "  Downloading chatterbot_corpus-1.2.0-py2.py3-none-any.whl (117 kB)\n",
            "\u001b[K     |████████████████████████████████| 117 kB 5.3 MB/s \n",
            "\u001b[?25hCollecting chatterbot\n",
            "  Downloading ChatterBot-1.0.5-py2.py3-none-any.whl (67 kB)\n",
            "\u001b[K     |████████████████████████████████| 67 kB 3.5 MB/s \n",
            "\u001b[?25hCollecting PyYAML<4.0,>=3.12\n",
            "  Downloading PyYAML-3.13.tar.gz (270 kB)\n",
            "\u001b[K     |████████████████████████████████| 270 kB 49.2 MB/s \n",
            "\u001b[?25hRequirement already satisfied: nltk<4.0,>=3.2 in /usr/local/lib/python3.8/dist-packages (from chatterbot) (3.7)\n",
            "Collecting mathparse<0.2,>=0.1\n",
            "  Downloading mathparse-0.1.2-py3-none-any.whl (7.2 kB)\n",
            "Collecting chatterbot\n",
            "  Downloading ChatterBot-1.0.4-py2.py3-none-any.whl (66 kB)\n",
            "\u001b[K     |████████████████████████████████| 66 kB 4.6 MB/s \n",
            "\u001b[?25hCollecting python-dateutil<2.8,>=2.7\n",
            "  Downloading python_dateutil-2.7.5-py2.py3-none-any.whl (225 kB)\n",
            "\u001b[K     |████████████████████████████████| 225 kB 42.8 MB/s \n",
            "\u001b[?25hCollecting sqlalchemy<1.3,>=1.2\n",
            "  Downloading SQLAlchemy-1.2.19.tar.gz (5.7 MB)\n",
            "\u001b[K     |████████████████████████████████| 5.7 MB 53.7 MB/s \n",
            "\u001b[?25hCollecting pint>=0.8.1\n",
            "  Downloading Pint-0.20.1-py3-none-any.whl (269 kB)\n",
            "\u001b[K     |████████████████████████████████| 269 kB 56.1 MB/s \n",
            "\u001b[?25hCollecting pymongo<4.0,>=3.3\n",
            "  Downloading pymongo-3.13.0-cp38-cp38-manylinux_2_17_x86_64.manylinux2014_x86_64.whl (526 kB)\n",
            "\u001b[K     |████████████████████████████████| 526 kB 53.2 MB/s \n",
            "\u001b[?25hRequirement already satisfied: regex>=2021.8.3 in /usr/local/lib/python3.8/dist-packages (from nltk<4.0,>=3.2->chatterbot) (2022.6.2)\n",
            "Requirement already satisfied: joblib in /usr/local/lib/python3.8/dist-packages (from nltk<4.0,>=3.2->chatterbot) (1.2.0)\n",
            "Requirement already satisfied: tqdm in /usr/local/lib/python3.8/dist-packages (from nltk<4.0,>=3.2->chatterbot) (4.64.1)\n",
            "Requirement already satisfied: click in /usr/local/lib/python3.8/dist-packages (from nltk<4.0,>=3.2->chatterbot) (7.1.2)\n",
            "Requirement already satisfied: six>=1.5 in /usr/local/lib/python3.8/dist-packages (from python-dateutil<2.8,>=2.7->chatterbot) (1.15.0)\n",
            "Building wheels for collected packages: PyYAML, sqlalchemy\n",
            "  Building wheel for PyYAML (setup.py) ... \u001b[?25l\u001b[?25hdone\n",
            "  Created wheel for PyYAML: filename=PyYAML-3.13-cp38-cp38-linux_x86_64.whl size=43098 sha256=388554383c1329294b96bbb94017daac104e03bb7a4f0ff3751bd78c82465d7e\n",
            "  Stored in directory: /root/.cache/pip/wheels/db/f2/07/5e58b12bc11255c3fc0a0aca89849050a8ec203d8b4a3c52c0\n",
            "  Building wheel for sqlalchemy (setup.py) ... \u001b[?25l\u001b[?25hdone\n",
            "  Created wheel for sqlalchemy: filename=SQLAlchemy-1.2.19-cp38-cp38-linux_x86_64.whl size=1155383 sha256=c1a0a92cec16c7d81214c27fd49f8df0e9e0dd5bdddc15f7e38a537799a89e27\n",
            "  Stored in directory: /root/.cache/pip/wheels/0d/13/f8/47c2f3157957c3693caffa64a94a718cb1357fe186e4d52e48\n",
            "Successfully built PyYAML sqlalchemy\n",
            "Installing collected packages: PyYAML, sqlalchemy, python-dateutil, pymongo, pint, mathparse, chatterbot-corpus, chatterbot\n",
            "  Attempting uninstall: PyYAML\n",
            "    Found existing installation: PyYAML 6.0\n",
            "    Uninstalling PyYAML-6.0:\n",
            "      Successfully uninstalled PyYAML-6.0\n",
            "  Attempting uninstall: sqlalchemy\n",
            "    Found existing installation: SQLAlchemy 1.4.45\n",
            "    Uninstalling SQLAlchemy-1.4.45:\n",
            "      Successfully uninstalled SQLAlchemy-1.4.45\n",
            "  Attempting uninstall: python-dateutil\n",
            "    Found existing installation: python-dateutil 2.8.2\n",
            "    Uninstalling python-dateutil-2.8.2:\n",
            "      Successfully uninstalled python-dateutil-2.8.2\n",
            "  Attempting uninstall: pymongo\n",
            "    Found existing installation: pymongo 4.3.3\n",
            "    Uninstalling pymongo-4.3.3:\n",
            "      Successfully uninstalled pymongo-4.3.3\n",
            "\u001b[31mERROR: pip's dependency resolver does not currently take into account all the packages that are installed. This behaviour is the source of the following dependency conflicts.\n",
            "prophet 1.1.1 requires python-dateutil>=2.8.0, but you have python-dateutil 2.7.5 which is incompatible.\n",
            "dask 2022.2.1 requires pyyaml>=5.3.1, but you have pyyaml 3.13 which is incompatible.\u001b[0m\n",
            "Successfully installed PyYAML-3.13 chatterbot-1.0.4 chatterbot-corpus-1.2.0 mathparse-0.1.2 pint-0.20.1 pymongo-3.13.0 python-dateutil-2.7.5 sqlalchemy-1.2.19\n"
          ]
        },
        {
          "output_type": "display_data",
          "data": {
            "application/vnd.colab-display-data+json": {
              "pip_warning": {
                "packages": [
                  "dateutil"
                ]
              }
            }
          },
          "metadata": {}
        }
      ]
    },
    {
      "cell_type": "markdown",
      "source": [
        "As you can see, the code for the chatbot seems fairly simple. Let’s outline the steps in creating a functional chatbot:\n",
        "\n",
        "1. **Create a chatbot:** This is done using the `create_bot` function (line 4). The function takes the name of the `bot` as an input argument. This function returns an object, called `bot`, which is further used in the program. You may set the name of your choice. In our case, we have set it to `Jordan`.\n",
        "2. **Train the chatbot:** This is done using the `train_all_data` function (line 7). The data we are training the chatbot for is shown [here](https://github.com/gunthercox/chatterbot-corpus/tree/master/chatterbot_corpus/data/english). The input argument of this function is the `bot`.\n",
        "3. **Train with custom data:** We train the chatbot with custom data using the `custom_train` function (line 14).\n",
        "    - The first input argument of this function is the `bot` itself.\n",
        "    - The second argument is the custom data we want to train. This custom data takes the form of a Python `list`. The first element of the list is the question and the second element is its answer (lines 10-13). You may train the chatbot with as much specific custom data as you want.\n",
        "4. **Start the chatbot:** Start the chatbot using the `start_chatbot` function (line 17). The input argument of this function is the `bot` we want to start."
      ],
      "metadata": {
        "id": "dqGSrlyUtqz5"
      }
    },
    {
      "cell_type": "code",
      "execution_count": null,
      "metadata": {
        "id": "ebbwzTHcoGVf"
      },
      "outputs": [],
      "source": [
        "## helper functions\n",
        "\n",
        "# function to create the chatbot\n",
        "# we have the read_only to false so the chatbot learns from the user input as \n",
        "def create_bot(name):\n",
        "    from chatterbot import ChatBot\n",
        "    Bot = ChatBot(name = name,\n",
        "                  read_only = False,                  \n",
        "                  logic_adapters = [\"chatterbot.logic.BestMatch\"],                 \n",
        "                  storage_adapter = \"chatterbot.storage.SQLStorageAdapter\")\n",
        "    return Bot\n",
        "\n",
        "# function to train the bot with a variety of topics\n",
        "# the language we have chosen is english\n",
        "# we can train the bot for other languages as well\n",
        "def train_all_data(Bot):\n",
        "    from chatterbot.trainers import ChatterBotCorpusTrainer\n",
        "    corpus_trainer = ChatterBotCorpusTrainer(Bot)\n",
        "    corpus_trainer.train(\"chatterbot.corpus.english\")\n",
        "\n",
        "# function to train the bot with custom data\n",
        "# it uses ListTrainer to train data from lists \n",
        "def custom_train(Bot, conversation):\n",
        "    from chatterbot.trainers import ListTrainer\n",
        "    trainer = ListTrainer(Bot)\n",
        "    trainer.train(conversation)\n",
        "\n",
        "# function to start and take responses from the chatbot\n",
        "# the chatbot stays running unless a word is typed from the bye_list \n",
        "def start_chatbot(Bot):\n",
        "    print('\\033c')\n",
        "    print(\"Hello, I am Jordan. How can I help you\")\n",
        "    bye_list = [\"bye jordan\", \"bye\", \"good bye\", \"see ya\", \"see you\"] \n",
        "    \n",
        "    while (True):\n",
        "        user_input = input(\"me: \")   \n",
        "        if user_input.lower() in bye_list:\n",
        "            print(\"Jordan: Good bye and have a blessed day!\")\n",
        "            break\n",
        "        \n",
        "        response = Bot.get_response(user_input)\n",
        "        print(\"Jordan:\", response)"
      ]
    },
    {
      "cell_type": "code",
      "source": [
        "# create chatbot \n",
        "home_bot = create_bot('Jordan')\n",
        "\n",
        "# train all data\n",
        "train_all_data(home_bot)\n",
        "\n",
        "# check identity\n",
        "identity = input(\"State your identity please: \")\n",
        "\n",
        "# rules for responding to different identities\n",
        "if identity == \"Mark\":\n",
        "    print(\"Welcome, Mark. Happy to have you at home.\")\n",
        "\n",
        "elif identity == \"Jane\":\n",
        "    print(\"Mark is out right now, but you are welcome to the house.\")\n",
        "\n",
        "else:\n",
        "    print(\"Your access is denied here.\")\n",
        "    exit()\n",
        "\n",
        "# custom data\n",
        "house_owner = [\n",
        "    \"Who is the owner of this house?\",\n",
        "    \"Mark Nicholas is the owner of this house.\"\n",
        "]\n",
        "custom_train(home_bot, house_owner)\n",
        "\n",
        "print(\"------ Training custom data ------\")\n",
        "# write and train your custom data here IF the identity is Mark\n",
        "if identity == 'Mark':   \n",
        "    city_born = [\n",
        "        \"Where was I born?\",\n",
        "        \"Mark, you were born in Seattle.\"\n",
        "    ]\n",
        "\n",
        "    fav_book = [\n",
        "        \"What is my favourite book?\",\n",
        "        \"That is easy. Your favourite book is The Great Gatsby.\"\n",
        "    ]\n",
        "\n",
        "    fav_movie = [\n",
        "        \"What is my favourite movie?\",\n",
        "        \"You have watched Interstellar more times than I can count.\"\n",
        "    ]\n",
        "\n",
        "    fav_sports = [\n",
        "        \"What is my favourite sport?\",\n",
        "        \"You have always loved baseball.\"\n",
        "    ]\n",
        "    # train chatbot with your custom data\n",
        "    custom_train(home_bot, city_born)\n",
        "    custom_train(home_bot, fav_book)\n",
        "    custom_train(home_bot, fav_movie)\n",
        "    custom_train(home_bot, fav_sports)\n",
        "\n",
        "# start chatbot\n",
        "start_chatbot(home_bot)"
      ],
      "metadata": {
        "colab": {
          "base_uri": "https://localhost:8080/"
        },
        "id": "VQeaan_4oukI",
        "outputId": "d6da570a-335a-4597-f4e0-a926360addc6"
      },
      "execution_count": null,
      "outputs": [
        {
          "output_type": "stream",
          "name": "stderr",
          "text": [
            "[nltk_data] Downloading package averaged_perceptron_tagger to\n",
            "[nltk_data]     /root/nltk_data...\n",
            "[nltk_data]   Unzipping taggers/averaged_perceptron_tagger.zip.\n",
            "[nltk_data] Downloading package punkt to /root/nltk_data...\n",
            "[nltk_data]   Unzipping tokenizers/punkt.zip.\n",
            "[nltk_data] Downloading package stopwords to /root/nltk_data...\n",
            "[nltk_data]   Unzipping corpora/stopwords.zip.\n",
            "[nltk_data] Downloading package wordnet to /root/nltk_data...\n"
          ]
        },
        {
          "output_type": "stream",
          "name": "stdout",
          "text": [
            "Training ai.yml: [####################] 100%\n",
            "Training botprofile.yml: [####################] 100%\n",
            "Training computers.yml: [####################] 100%\n",
            "Training conversations.yml: [####################] 100%\n",
            "Training emotion.yml: [####################] 100%\n",
            "Training food.yml: [####################] 100%\n",
            "Training gossip.yml: [####################] 100%\n",
            "Training greetings.yml: [####################] 100%\n",
            "Training health.yml: [####################] 100%\n",
            "Training history.yml: [####################] 100%\n",
            "Training humor.yml: [####################] 100%\n",
            "Training literature.yml: [####################] 100%\n",
            "Training money.yml: [####################] 100%\n",
            "Training movies.yml: [####################] 100%\n",
            "Training politics.yml: [####################] 100%\n",
            "Training psychology.yml: [####################] 100%\n",
            "Training science.yml: [####################] 100%\n",
            "Training sports.yml: [####################] 100%\n",
            "Training trivia.yml: [####################] 100%\n",
            "State your identity please: Mark\n",
            "Welcome, Mark. Happy to have you at home.\n",
            "List Trainer: [####################] 100%\n",
            "------ Training custom data ------\n",
            "List Trainer: [####################] 100%\n",
            "List Trainer: [####################] 100%\n",
            "List Trainer: [####################] 100%\n",
            "List Trainer: [####################] 100%\n",
            "\u001bc\n",
            "Hello, I am Jordan. How can I help you\n",
            "me: What is my favourite sport?\n",
            "Jordan: You have always loved baseball.\n",
            "me: What is my favourite movie?\n",
            "Jordan: You have watched Interstellar more times than I can count.\n",
            "me: Are you a sapient?\n",
            "Jordan: technically, it's the study of the allocation of resources under conditions of scarcity.\n",
            "me: tell a joke\n",
            "Jordan: Did you hear the one about the mountain goats in the andes? It was \"ba a a a a a d\".\n",
            "me: Are you sapient?\n",
            "Jordan: In all probability, I am not. I'm not that sophisticated.\n",
            "me: see ya\n",
            "Jordan: Good bye and have a blessed day!\n"
          ]
        }
      ]
    }
  ]
}